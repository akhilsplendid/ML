{
 "cells": [
  {
   "cell_type": "code",
   "execution_count": 5,
   "id": "4d243b5e",
   "metadata": {},
   "outputs": [],
   "source": [
    "from sklearn.linear_model import LogisticRegression\n",
    "from sklearn.tree import DecisionTreeClassifier\n",
    "from sklearn.svm import SVC\n",
    "from sklearn.model_selection import StratifiedKFold\n",
    "from scipy.stats import friedmanchisquare\n",
    "import pandas as pd\n",
    "from sklearn.model_selection import train_test_split\n",
    "from sklearn.preprocessing import StandardScaler\n",
    "from sklearn.metrics import confusion_matrix\n",
    "# from sklearn.model_selection import cross_val_score"
   ]
  },
  {
   "cell_type": "code",
   "execution_count": 2,
   "id": "6160af6d",
   "metadata": {},
   "outputs": [],
   "source": [
    "import pandas as pd\n",
    "from sklearn.linear_model import LogisticRegression\n",
    "from sklearn.tree import DecisionTreeClassifier\n",
    "from sklearn.svm import SVC\n",
    "from sklearn.model_selection import StratifiedKFold\n",
    "from sklearn.metrics import accuracy_score, f1_score\n",
    "from numpy import mean, median\n",
    "from scipy.stats import friedmanchisquare\n",
    "\n"
   ]
  },
  {
   "cell_type": "code",
   "execution_count": 6,
   "id": "fde4a690",
   "metadata": {},
   "outputs": [],
   "source": [
    "dataset = pd.read_csv('data/spambase.data')\n",
    "X = dataset.iloc[:, :-1].values\n",
    "y = dataset.iloc[:, 57].values"
   ]
  },
  {
   "cell_type": "code",
   "execution_count": 7,
   "id": "3dbe21ff",
   "metadata": {},
   "outputs": [],
   "source": [
    "#Splitting the dataset into the Training set and Test set\n",
    "X_train, X_test, y_train, y_test = train_test_split(X, y, test_size = 0.2, random_state = 0)\n",
    "\n",
    "#Feature Scaling\n",
    "sc = StandardScaler()\n",
    "X_train = sc.fit_transform(X_train)\n",
    "X_test = sc.transform(X_test)"
   ]
  },
  {
   "cell_type": "code",
   "execution_count": null,
   "id": "3ebea214",
   "metadata": {},
   "outputs": [],
   "source": [
    "#Fitting Logistic Regression to the Training set\n",
    "classifier = LogisticRegression(random_state = 0)\n",
    "classifier.fit(X_train, y_train)\n",
    "\n",
    "#Predicting the Test set results\n",
    "y_pred = classifier.predict(X_test)\n",
    "\n",
    "#Making the Confusion Matrix\n",
    "cm = confusion_matrix(y_test, y_pred)\n",
    "\n",
    "#Applying k-Fold Cross Validation\n",
    "accuracies = cross_val_score(estimator = classifier, X = X_train, y = y_train, cv = 10)\n",
    "accuracies.mean()\n",
    "accuracies.std()\n"
   ]
  },
  {
   "cell_type": "code",
   "execution_count": 8,
   "id": "11ccfb5d",
   "metadata": {},
   "outputs": [],
   "source": [
    "from sklearn.metrics import accuracy_score, f1_score\n",
    "from numpy import mean, median\n",
    "from scipy.stats import friedmanchisquare"
   ]
  },
  {
   "cell_type": "code",
   "execution_count": 12,
   "id": "106b9c91",
   "metadata": {},
   "outputs": [
    {
     "data": {
      "text/html": [
       "<div>\n",
       "<style scoped>\n",
       "    .dataframe tbody tr th:only-of-type {\n",
       "        vertical-align: middle;\n",
       "    }\n",
       "\n",
       "    .dataframe tbody tr th {\n",
       "        vertical-align: top;\n",
       "    }\n",
       "\n",
       "    .dataframe thead th {\n",
       "        text-align: right;\n",
       "    }\n",
       "</style>\n",
       "<table border=\"1\" class=\"dataframe\">\n",
       "  <thead>\n",
       "    <tr style=\"text-align: right;\">\n",
       "      <th></th>\n",
       "      <th>Training Time</th>\n",
       "      <th>Accuracy</th>\n",
       "      <th>F-Measure</th>\n",
       "    </tr>\n",
       "  </thead>\n",
       "  <tbody>\n",
       "    <tr>\n",
       "      <th>alg1</th>\n",
       "      <td>NaN</td>\n",
       "      <td>NaN</td>\n",
       "      <td>NaN</td>\n",
       "    </tr>\n",
       "    <tr>\n",
       "      <th>alg2</th>\n",
       "      <td>NaN</td>\n",
       "      <td>NaN</td>\n",
       "      <td>NaN</td>\n",
       "    </tr>\n",
       "    <tr>\n",
       "      <th>alg3</th>\n",
       "      <td>NaN</td>\n",
       "      <td>NaN</td>\n",
       "      <td>NaN</td>\n",
       "    </tr>\n",
       "  </tbody>\n",
       "</table>\n",
       "</div>"
      ],
      "text/plain": [
       "     Training Time Accuracy F-Measure\n",
       "alg1           NaN      NaN       NaN\n",
       "alg2           NaN      NaN       NaN\n",
       "alg3           NaN      NaN       NaN"
      ]
     },
     "execution_count": 12,
     "metadata": {},
     "output_type": "execute_result"
    }
   ],
   "source": [
    "def cross_val_score(alg, X, y, cv, scoring):\n",
    "    cross_val_scores = []\n",
    "    for train_index, test_index in cv.split(X, y):\n",
    "        X_train, X_test = X.iloc[train_index], X.iloc[test_index]\n",
    "        y_train, y_test = y.iloc[train_index], y.iloc[test_index]\n",
    "        alg.fit(X_train, y_train)\n",
    "        y_pred = alg.predict(X_test)\n",
    "        cross_val_scores.append(scoring(y_test, y_pred))\n",
    "        return mean(cross_val_scores)\n",
    "\n",
    "\n",
    "alg1 = LogisticRegression()\n",
    "alg2 = DecisionTreeClassifier()\n",
    "alg3 = SVC()\n",
    "\n",
    "#Evaluation measures: perform a comparison between the selected algorithms based on: \n",
    "#1) computational performance in terms of training time,\n",
    "# 2) predictive performance based on accuracy, and\n",
    "#  3) predictive performance based on F-measure.\n",
    "\n",
    "# create the evaluation measures\n",
    "measures = ['Training Time', 'Accuracy', 'F-Measure']\n",
    "\n",
    "\n",
    "#Procedure (repeat steps 2, 3, and 4 for each evaluation measure above):\n",
    "#1.Run stratified ten-fold cross-validation tests.\n",
    "#2.Present the results exactly as in the table in example 12.4 of the main literature.\n",
    "#3.Conduct the Friedman test and report the results exactly as in the table in example 12.8 of the main literature.\n",
    "#4.Determine whether the average ranks as a whole display significant differences on the 0.05 alpha level and, if so, use the Nemeyi test to calculate the critical difference in order to determine which algorithms perform significantly different from each other.\n",
    "\n",
    "#1.Run stratified ten-fold cross-validation tests.\n",
    "\n",
    "# create the 10-fold cross-validation\n",
    "cv = StratifiedKFold(n_splits=10, shuffle=True, random_state=1)\n",
    "\n",
    "# create the results table\n",
    "results = pd.DataFrame(columns=measures, index=['alg1', 'alg2', 'alg3'])\n",
    "\n",
    "results\n"
   ]
  },
  {
   "cell_type": "code",
   "execution_count": null,
   "id": "b0d0b0b0",
   "metadata": {},
   "outputs": [],
   "source": [
    "# evaluate the algorithms\n",
    "for i, alg in enumerate([alg1, alg2, alg3]):\n",
    "    # evaluate the training time\n",
    "    results.iloc[i, 0] = mean(cross_val_score(alg, X, y, cv=cv, scoring='neg_mean_squared_error'))\n",
    "    # evaluate the accuracy\n",
    "    results.iloc[i, 1] = mean(cross_val_score(alg, X, y, cv=cv, scoring='accuracy'))\n",
    "    # evaluate the f-measure\n",
    "    results.iloc[i, 2] = mean(cross_val_score(alg, X, y, cv=cv, scoring='f1'))\n",
    "    \n",
    " #2.Present the results exactly as in the table in example 12.4 of the main literature.\n",
    "print(results)\n",
    " \n",
    " #3.Conduct the Friedman test and report the results exactly as in the table in example 12.8 of the main literature.\n",
    " # perform the Friedman test\n",
    "stat, p = friedmanchisquare(results.iloc[0, :], results.iloc[1, :], results.iloc[2, :])\n",
    " # interpret the results\n",
    "alpha = 0.05\n",
    "if p > alpha:\n",
    "    print('Same distributions (fail to reject H0)')\n",
    "else:\n",
    "    print('Different distributions (reject H0)')"
   ]
  }
 ],
 "metadata": {
  "kernelspec": {
   "display_name": "Python 3 (ipykernel)",
   "language": "python",
   "name": "python3"
  },
  "language_info": {
   "codemirror_mode": {
    "name": "ipython",
    "version": 3
   },
   "file_extension": ".py",
   "mimetype": "text/x-python",
   "name": "python",
   "nbconvert_exporter": "python",
   "pygments_lexer": "ipython3",
   "version": "3.9.12"
  }
 },
 "nbformat": 4,
 "nbformat_minor": 5
}
