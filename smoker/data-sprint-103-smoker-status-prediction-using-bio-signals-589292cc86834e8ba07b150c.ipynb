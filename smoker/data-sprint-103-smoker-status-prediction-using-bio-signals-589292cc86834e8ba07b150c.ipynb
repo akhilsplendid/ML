{
 "cells": [
  {
   "cell_type": "markdown",
   "metadata": {
    "id": "D7Z4eNQDH3Ad"
   },
   "source": [
    "![dphi banner](https://dphi-courses.s3.ap-south-1.amazonaws.com/Datathons/dphi_banner.png)"
   ]
  },
  {
   "cell_type": "markdown",
   "metadata": {
    "id": "XozdDc7LITew"
   },
   "source": [
    "# Loading Libraries\n",
    "All Python capabilities are not loaded into our working environment by default (even those that are already installed in your system). So, we import each and every library that we want to use.\n",
    "\n",
    "In data science, numpy and pandas are the most commonly used libraries. Numpy is required for calculations like mean, median, square roots, etc. Pandas is used for data processing and data frames. We choose alias names for our libraries for the sake of our convenience (numpy --> np and pandas --> pd).\n",
    "\n",
    "Note: You can import all the libraries that you think will be required or can import it as you go along. \n",
    "\n",
    "Here we will be importing the following libraries"
   ]
  },
  {
   "cell_type": "code",
   "execution_count": 1,
   "metadata": {
    "id": "ubn_Wdf4HyzZ"
   },
   "outputs": [],
   "source": [
    "import pandas as pd\n",
    "import numpy as np\n",
    "from sklearn.model_selection import train_test_split\n",
    "from sklearn.preprocessing import LabelEncoder, StandardScaler\n",
    "from sklearn.tree import DecisionTreeClassifier\n",
    "import warnings\n",
    "warnings.filterwarnings('ignore')"
   ]
  },
  {
   "cell_type": "markdown",
   "metadata": {
    "id": "VIAGI5xtI1B3"
   },
   "source": [
    "# Loading Dataset\n",
    "Pandas module is used for reading files.\n",
    "\n",
    "You can learn more about pandas [here](https://dphi.tech/learn/introduction-to-pandas)"
   ]
  },
  {
   "cell_type": "code",
   "execution_count": 4,
   "metadata": {
    "id": "oUMd-8bBIQoG"
   },
   "outputs": [],
   "source": [
    "df = pd.read_csv(r\"train_dataset.csv\")"
   ]
  },
  {
   "cell_type": "markdown",
   "metadata": {
    "id": "2oky8OqKJgUe"
   },
   "source": [
    "## What do you need to do now?\n",
    "*  Perform EDA and Data Visualization, to understand the data. Learn more about EDA [here](https://dphi.tech/learn/introduction-to-exploratory-data-analysis). Learn more about data visualization [here](https://dphi.tech/learn/introduction-to-data-visualization)\n",
    "*  Clean the data if required (like removing or filling missing values, treat outliers, etc.). Learn more about handling missing values [here](https://youtu.be/EaGbS7eWSs0)\n",
    "*  Perform Data Preprocessing if you feel it's required. Learn one hot encoding [here](https://youtu.be/9yl6-HEY7_s)."
   ]
  },
  {
   "cell_type": "markdown",
   "metadata": {
    "id": "DyEKd-EEJ47p"
   },
   "source": [
    "# **Basic EDA**"
   ]
  },
  {
   "cell_type": "code",
   "execution_count": 5,
   "metadata": {
    "colab": {
     "base_uri": "https://localhost:8080/",
     "height": 317
    },
    "id": "CA5SIP8JJ2Vp",
    "outputId": "d4babc34-d149-47cf-ffc3-def3749becfa"
   },
   "outputs": [
    {
     "data": {
      "text/html": [
       "<div>\n",
       "<style scoped>\n",
       "    .dataframe tbody tr th:only-of-type {\n",
       "        vertical-align: middle;\n",
       "    }\n",
       "\n",
       "    .dataframe tbody tr th {\n",
       "        vertical-align: top;\n",
       "    }\n",
       "\n",
       "    .dataframe thead th {\n",
       "        text-align: right;\n",
       "    }\n",
       "</style>\n",
       "<table border=\"1\" class=\"dataframe\">\n",
       "  <thead>\n",
       "    <tr style=\"text-align: right;\">\n",
       "      <th></th>\n",
       "      <th>age</th>\n",
       "      <th>height(cm)</th>\n",
       "      <th>weight(kg)</th>\n",
       "      <th>waist(cm)</th>\n",
       "      <th>eyesight(left)</th>\n",
       "      <th>eyesight(right)</th>\n",
       "      <th>hearing(left)</th>\n",
       "      <th>hearing(right)</th>\n",
       "      <th>systolic</th>\n",
       "      <th>relaxation</th>\n",
       "      <th>...</th>\n",
       "      <th>HDL</th>\n",
       "      <th>LDL</th>\n",
       "      <th>hemoglobin</th>\n",
       "      <th>Urine protein</th>\n",
       "      <th>serum creatinine</th>\n",
       "      <th>AST</th>\n",
       "      <th>ALT</th>\n",
       "      <th>Gtp</th>\n",
       "      <th>dental caries</th>\n",
       "      <th>smoking</th>\n",
       "    </tr>\n",
       "  </thead>\n",
       "  <tbody>\n",
       "    <tr>\n",
       "      <th>0</th>\n",
       "      <td>35</td>\n",
       "      <td>170</td>\n",
       "      <td>85</td>\n",
       "      <td>97.0</td>\n",
       "      <td>0.9</td>\n",
       "      <td>0.9</td>\n",
       "      <td>1</td>\n",
       "      <td>1</td>\n",
       "      <td>118</td>\n",
       "      <td>78</td>\n",
       "      <td>...</td>\n",
       "      <td>70</td>\n",
       "      <td>142</td>\n",
       "      <td>19.8</td>\n",
       "      <td>1</td>\n",
       "      <td>1.0</td>\n",
       "      <td>61</td>\n",
       "      <td>115</td>\n",
       "      <td>125</td>\n",
       "      <td>1</td>\n",
       "      <td>1</td>\n",
       "    </tr>\n",
       "    <tr>\n",
       "      <th>1</th>\n",
       "      <td>20</td>\n",
       "      <td>175</td>\n",
       "      <td>110</td>\n",
       "      <td>110.0</td>\n",
       "      <td>0.7</td>\n",
       "      <td>0.9</td>\n",
       "      <td>1</td>\n",
       "      <td>1</td>\n",
       "      <td>119</td>\n",
       "      <td>79</td>\n",
       "      <td>...</td>\n",
       "      <td>71</td>\n",
       "      <td>114</td>\n",
       "      <td>15.9</td>\n",
       "      <td>1</td>\n",
       "      <td>1.1</td>\n",
       "      <td>19</td>\n",
       "      <td>25</td>\n",
       "      <td>30</td>\n",
       "      <td>1</td>\n",
       "      <td>0</td>\n",
       "    </tr>\n",
       "    <tr>\n",
       "      <th>2</th>\n",
       "      <td>45</td>\n",
       "      <td>155</td>\n",
       "      <td>65</td>\n",
       "      <td>86.0</td>\n",
       "      <td>0.9</td>\n",
       "      <td>0.9</td>\n",
       "      <td>1</td>\n",
       "      <td>1</td>\n",
       "      <td>110</td>\n",
       "      <td>80</td>\n",
       "      <td>...</td>\n",
       "      <td>57</td>\n",
       "      <td>112</td>\n",
       "      <td>13.7</td>\n",
       "      <td>3</td>\n",
       "      <td>0.6</td>\n",
       "      <td>1090</td>\n",
       "      <td>1400</td>\n",
       "      <td>276</td>\n",
       "      <td>0</td>\n",
       "      <td>0</td>\n",
       "    </tr>\n",
       "    <tr>\n",
       "      <th>3</th>\n",
       "      <td>45</td>\n",
       "      <td>165</td>\n",
       "      <td>80</td>\n",
       "      <td>94.0</td>\n",
       "      <td>0.8</td>\n",
       "      <td>0.7</td>\n",
       "      <td>1</td>\n",
       "      <td>1</td>\n",
       "      <td>158</td>\n",
       "      <td>88</td>\n",
       "      <td>...</td>\n",
       "      <td>46</td>\n",
       "      <td>91</td>\n",
       "      <td>16.9</td>\n",
       "      <td>1</td>\n",
       "      <td>0.9</td>\n",
       "      <td>32</td>\n",
       "      <td>36</td>\n",
       "      <td>36</td>\n",
       "      <td>0</td>\n",
       "      <td>0</td>\n",
       "    </tr>\n",
       "    <tr>\n",
       "      <th>4</th>\n",
       "      <td>20</td>\n",
       "      <td>165</td>\n",
       "      <td>60</td>\n",
       "      <td>81.0</td>\n",
       "      <td>1.5</td>\n",
       "      <td>0.1</td>\n",
       "      <td>1</td>\n",
       "      <td>1</td>\n",
       "      <td>109</td>\n",
       "      <td>64</td>\n",
       "      <td>...</td>\n",
       "      <td>47</td>\n",
       "      <td>92</td>\n",
       "      <td>14.9</td>\n",
       "      <td>1</td>\n",
       "      <td>1.2</td>\n",
       "      <td>26</td>\n",
       "      <td>28</td>\n",
       "      <td>15</td>\n",
       "      <td>0</td>\n",
       "      <td>0</td>\n",
       "    </tr>\n",
       "  </tbody>\n",
       "</table>\n",
       "<p>5 rows × 23 columns</p>\n",
       "</div>"
      ],
      "text/plain": [
       "   age  height(cm)  weight(kg)  waist(cm)  eyesight(left)  eyesight(right)  \\\n",
       "0   35         170          85       97.0             0.9              0.9   \n",
       "1   20         175         110      110.0             0.7              0.9   \n",
       "2   45         155          65       86.0             0.9              0.9   \n",
       "3   45         165          80       94.0             0.8              0.7   \n",
       "4   20         165          60       81.0             1.5              0.1   \n",
       "\n",
       "   hearing(left)  hearing(right)  systolic  relaxation  ...  HDL  LDL  \\\n",
       "0              1               1       118          78  ...   70  142   \n",
       "1              1               1       119          79  ...   71  114   \n",
       "2              1               1       110          80  ...   57  112   \n",
       "3              1               1       158          88  ...   46   91   \n",
       "4              1               1       109          64  ...   47   92   \n",
       "\n",
       "   hemoglobin  Urine protein  serum creatinine   AST   ALT  Gtp  \\\n",
       "0        19.8              1               1.0    61   115  125   \n",
       "1        15.9              1               1.1    19    25   30   \n",
       "2        13.7              3               0.6  1090  1400  276   \n",
       "3        16.9              1               0.9    32    36   36   \n",
       "4        14.9              1               1.2    26    28   15   \n",
       "\n",
       "   dental caries  smoking  \n",
       "0              1        1  \n",
       "1              1        0  \n",
       "2              0        0  \n",
       "3              0        0  \n",
       "4              0        0  \n",
       "\n",
       "[5 rows x 23 columns]"
      ]
     },
     "execution_count": 5,
     "metadata": {},
     "output_type": "execute_result"
    }
   ],
   "source": [
    "df.head()"
   ]
  },
  {
   "cell_type": "code",
   "execution_count": 6,
   "metadata": {
    "colab": {
     "base_uri": "https://localhost:8080/"
    },
    "id": "_qNCfd73Jp7E",
    "outputId": "9fe640db-a16f-4f01-f93a-92bfead09c0e"
   },
   "outputs": [
    {
     "data": {
      "text/plain": [
       "(38984, 23)"
      ]
     },
     "execution_count": 6,
     "metadata": {},
     "output_type": "execute_result"
    }
   ],
   "source": [
    "df.shape"
   ]
  },
  {
   "cell_type": "code",
   "execution_count": 7,
   "metadata": {
    "colab": {
     "base_uri": "https://localhost:8080/",
     "height": 411
    },
    "id": "lMeTIbG3JmP6",
    "outputId": "22464cb7-c5a6-456e-d679-a28c417aa92f"
   },
   "outputs": [
    {
     "data": {
      "text/html": [
       "<div>\n",
       "<style scoped>\n",
       "    .dataframe tbody tr th:only-of-type {\n",
       "        vertical-align: middle;\n",
       "    }\n",
       "\n",
       "    .dataframe tbody tr th {\n",
       "        vertical-align: top;\n",
       "    }\n",
       "\n",
       "    .dataframe thead th {\n",
       "        text-align: right;\n",
       "    }\n",
       "</style>\n",
       "<table border=\"1\" class=\"dataframe\">\n",
       "  <thead>\n",
       "    <tr style=\"text-align: right;\">\n",
       "      <th></th>\n",
       "      <th>age</th>\n",
       "      <th>height(cm)</th>\n",
       "      <th>weight(kg)</th>\n",
       "      <th>waist(cm)</th>\n",
       "      <th>eyesight(left)</th>\n",
       "      <th>eyesight(right)</th>\n",
       "      <th>hearing(left)</th>\n",
       "      <th>hearing(right)</th>\n",
       "      <th>systolic</th>\n",
       "      <th>relaxation</th>\n",
       "      <th>...</th>\n",
       "      <th>HDL</th>\n",
       "      <th>LDL</th>\n",
       "      <th>hemoglobin</th>\n",
       "      <th>Urine protein</th>\n",
       "      <th>serum creatinine</th>\n",
       "      <th>AST</th>\n",
       "      <th>ALT</th>\n",
       "      <th>Gtp</th>\n",
       "      <th>dental caries</th>\n",
       "      <th>smoking</th>\n",
       "    </tr>\n",
       "  </thead>\n",
       "  <tbody>\n",
       "    <tr>\n",
       "      <th>count</th>\n",
       "      <td>38984.000000</td>\n",
       "      <td>38984.000000</td>\n",
       "      <td>38984.000000</td>\n",
       "      <td>38984.000000</td>\n",
       "      <td>38984.000000</td>\n",
       "      <td>38984.000000</td>\n",
       "      <td>38984.000000</td>\n",
       "      <td>38984.000000</td>\n",
       "      <td>38984.000000</td>\n",
       "      <td>38984.000000</td>\n",
       "      <td>...</td>\n",
       "      <td>38984.000000</td>\n",
       "      <td>38984.000000</td>\n",
       "      <td>38984.000000</td>\n",
       "      <td>38984.000000</td>\n",
       "      <td>38984.000000</td>\n",
       "      <td>38984.000000</td>\n",
       "      <td>38984.000000</td>\n",
       "      <td>38984.000000</td>\n",
       "      <td>38984.000000</td>\n",
       "      <td>38984.000000</td>\n",
       "    </tr>\n",
       "    <tr>\n",
       "      <th>mean</th>\n",
       "      <td>44.127591</td>\n",
       "      <td>164.689488</td>\n",
       "      <td>65.938718</td>\n",
       "      <td>82.062115</td>\n",
       "      <td>1.014955</td>\n",
       "      <td>1.008768</td>\n",
       "      <td>1.025369</td>\n",
       "      <td>1.026190</td>\n",
       "      <td>121.475631</td>\n",
       "      <td>75.994408</td>\n",
       "      <td>...</td>\n",
       "      <td>57.293146</td>\n",
       "      <td>115.081495</td>\n",
       "      <td>14.624264</td>\n",
       "      <td>1.086523</td>\n",
       "      <td>0.886030</td>\n",
       "      <td>26.198235</td>\n",
       "      <td>27.145188</td>\n",
       "      <td>39.905038</td>\n",
       "      <td>0.214421</td>\n",
       "      <td>0.367279</td>\n",
       "    </tr>\n",
       "    <tr>\n",
       "      <th>std</th>\n",
       "      <td>12.063564</td>\n",
       "      <td>9.187507</td>\n",
       "      <td>12.896581</td>\n",
       "      <td>9.326798</td>\n",
       "      <td>0.498527</td>\n",
       "      <td>0.493813</td>\n",
       "      <td>0.157246</td>\n",
       "      <td>0.159703</td>\n",
       "      <td>13.643521</td>\n",
       "      <td>9.658734</td>\n",
       "      <td>...</td>\n",
       "      <td>14.617822</td>\n",
       "      <td>42.883163</td>\n",
       "      <td>1.566528</td>\n",
       "      <td>0.402107</td>\n",
       "      <td>0.220621</td>\n",
       "      <td>19.175595</td>\n",
       "      <td>31.309945</td>\n",
       "      <td>49.693843</td>\n",
       "      <td>0.410426</td>\n",
       "      <td>0.482070</td>\n",
       "    </tr>\n",
       "    <tr>\n",
       "      <th>min</th>\n",
       "      <td>20.000000</td>\n",
       "      <td>130.000000</td>\n",
       "      <td>30.000000</td>\n",
       "      <td>51.000000</td>\n",
       "      <td>0.100000</td>\n",
       "      <td>0.100000</td>\n",
       "      <td>1.000000</td>\n",
       "      <td>1.000000</td>\n",
       "      <td>71.000000</td>\n",
       "      <td>40.000000</td>\n",
       "      <td>...</td>\n",
       "      <td>4.000000</td>\n",
       "      <td>1.000000</td>\n",
       "      <td>4.900000</td>\n",
       "      <td>1.000000</td>\n",
       "      <td>0.100000</td>\n",
       "      <td>6.000000</td>\n",
       "      <td>1.000000</td>\n",
       "      <td>2.000000</td>\n",
       "      <td>0.000000</td>\n",
       "      <td>0.000000</td>\n",
       "    </tr>\n",
       "    <tr>\n",
       "      <th>25%</th>\n",
       "      <td>40.000000</td>\n",
       "      <td>160.000000</td>\n",
       "      <td>55.000000</td>\n",
       "      <td>76.000000</td>\n",
       "      <td>0.800000</td>\n",
       "      <td>0.800000</td>\n",
       "      <td>1.000000</td>\n",
       "      <td>1.000000</td>\n",
       "      <td>112.000000</td>\n",
       "      <td>70.000000</td>\n",
       "      <td>...</td>\n",
       "      <td>47.000000</td>\n",
       "      <td>91.000000</td>\n",
       "      <td>13.600000</td>\n",
       "      <td>1.000000</td>\n",
       "      <td>0.800000</td>\n",
       "      <td>19.000000</td>\n",
       "      <td>15.000000</td>\n",
       "      <td>17.000000</td>\n",
       "      <td>0.000000</td>\n",
       "      <td>0.000000</td>\n",
       "    </tr>\n",
       "    <tr>\n",
       "      <th>50%</th>\n",
       "      <td>40.000000</td>\n",
       "      <td>165.000000</td>\n",
       "      <td>65.000000</td>\n",
       "      <td>82.000000</td>\n",
       "      <td>1.000000</td>\n",
       "      <td>1.000000</td>\n",
       "      <td>1.000000</td>\n",
       "      <td>1.000000</td>\n",
       "      <td>120.000000</td>\n",
       "      <td>76.000000</td>\n",
       "      <td>...</td>\n",
       "      <td>55.000000</td>\n",
       "      <td>113.000000</td>\n",
       "      <td>14.800000</td>\n",
       "      <td>1.000000</td>\n",
       "      <td>0.900000</td>\n",
       "      <td>23.000000</td>\n",
       "      <td>21.000000</td>\n",
       "      <td>26.000000</td>\n",
       "      <td>0.000000</td>\n",
       "      <td>0.000000</td>\n",
       "    </tr>\n",
       "    <tr>\n",
       "      <th>75%</th>\n",
       "      <td>55.000000</td>\n",
       "      <td>170.000000</td>\n",
       "      <td>75.000000</td>\n",
       "      <td>88.000000</td>\n",
       "      <td>1.200000</td>\n",
       "      <td>1.200000</td>\n",
       "      <td>1.000000</td>\n",
       "      <td>1.000000</td>\n",
       "      <td>130.000000</td>\n",
       "      <td>82.000000</td>\n",
       "      <td>...</td>\n",
       "      <td>66.000000</td>\n",
       "      <td>136.000000</td>\n",
       "      <td>15.800000</td>\n",
       "      <td>1.000000</td>\n",
       "      <td>1.000000</td>\n",
       "      <td>29.000000</td>\n",
       "      <td>31.000000</td>\n",
       "      <td>44.000000</td>\n",
       "      <td>0.000000</td>\n",
       "      <td>1.000000</td>\n",
       "    </tr>\n",
       "    <tr>\n",
       "      <th>max</th>\n",
       "      <td>85.000000</td>\n",
       "      <td>190.000000</td>\n",
       "      <td>135.000000</td>\n",
       "      <td>129.000000</td>\n",
       "      <td>9.900000</td>\n",
       "      <td>9.900000</td>\n",
       "      <td>2.000000</td>\n",
       "      <td>2.000000</td>\n",
       "      <td>233.000000</td>\n",
       "      <td>146.000000</td>\n",
       "      <td>...</td>\n",
       "      <td>359.000000</td>\n",
       "      <td>1860.000000</td>\n",
       "      <td>21.100000</td>\n",
       "      <td>6.000000</td>\n",
       "      <td>11.600000</td>\n",
       "      <td>1090.000000</td>\n",
       "      <td>2914.000000</td>\n",
       "      <td>999.000000</td>\n",
       "      <td>1.000000</td>\n",
       "      <td>1.000000</td>\n",
       "    </tr>\n",
       "  </tbody>\n",
       "</table>\n",
       "<p>8 rows × 23 columns</p>\n",
       "</div>"
      ],
      "text/plain": [
       "                age    height(cm)    weight(kg)     waist(cm)  eyesight(left)  \\\n",
       "count  38984.000000  38984.000000  38984.000000  38984.000000    38984.000000   \n",
       "mean      44.127591    164.689488     65.938718     82.062115        1.014955   \n",
       "std       12.063564      9.187507     12.896581      9.326798        0.498527   \n",
       "min       20.000000    130.000000     30.000000     51.000000        0.100000   \n",
       "25%       40.000000    160.000000     55.000000     76.000000        0.800000   \n",
       "50%       40.000000    165.000000     65.000000     82.000000        1.000000   \n",
       "75%       55.000000    170.000000     75.000000     88.000000        1.200000   \n",
       "max       85.000000    190.000000    135.000000    129.000000        9.900000   \n",
       "\n",
       "       eyesight(right)  hearing(left)  hearing(right)      systolic  \\\n",
       "count     38984.000000   38984.000000    38984.000000  38984.000000   \n",
       "mean          1.008768       1.025369        1.026190    121.475631   \n",
       "std           0.493813       0.157246        0.159703     13.643521   \n",
       "min           0.100000       1.000000        1.000000     71.000000   \n",
       "25%           0.800000       1.000000        1.000000    112.000000   \n",
       "50%           1.000000       1.000000        1.000000    120.000000   \n",
       "75%           1.200000       1.000000        1.000000    130.000000   \n",
       "max           9.900000       2.000000        2.000000    233.000000   \n",
       "\n",
       "         relaxation  ...           HDL           LDL    hemoglobin  \\\n",
       "count  38984.000000  ...  38984.000000  38984.000000  38984.000000   \n",
       "mean      75.994408  ...     57.293146    115.081495     14.624264   \n",
       "std        9.658734  ...     14.617822     42.883163      1.566528   \n",
       "min       40.000000  ...      4.000000      1.000000      4.900000   \n",
       "25%       70.000000  ...     47.000000     91.000000     13.600000   \n",
       "50%       76.000000  ...     55.000000    113.000000     14.800000   \n",
       "75%       82.000000  ...     66.000000    136.000000     15.800000   \n",
       "max      146.000000  ...    359.000000   1860.000000     21.100000   \n",
       "\n",
       "       Urine protein  serum creatinine           AST           ALT  \\\n",
       "count   38984.000000      38984.000000  38984.000000  38984.000000   \n",
       "mean        1.086523          0.886030     26.198235     27.145188   \n",
       "std         0.402107          0.220621     19.175595     31.309945   \n",
       "min         1.000000          0.100000      6.000000      1.000000   \n",
       "25%         1.000000          0.800000     19.000000     15.000000   \n",
       "50%         1.000000          0.900000     23.000000     21.000000   \n",
       "75%         1.000000          1.000000     29.000000     31.000000   \n",
       "max         6.000000         11.600000   1090.000000   2914.000000   \n",
       "\n",
       "                Gtp  dental caries       smoking  \n",
       "count  38984.000000   38984.000000  38984.000000  \n",
       "mean      39.905038       0.214421      0.367279  \n",
       "std       49.693843       0.410426      0.482070  \n",
       "min        2.000000       0.000000      0.000000  \n",
       "25%       17.000000       0.000000      0.000000  \n",
       "50%       26.000000       0.000000      0.000000  \n",
       "75%       44.000000       0.000000      1.000000  \n",
       "max      999.000000       1.000000      1.000000  \n",
       "\n",
       "[8 rows x 23 columns]"
      ]
     },
     "execution_count": 7,
     "metadata": {},
     "output_type": "execute_result"
    }
   ],
   "source": [
    "df.describe()"
   ]
  },
  {
   "cell_type": "code",
   "execution_count": 8,
   "metadata": {
    "colab": {
     "base_uri": "https://localhost:8080/"
    },
    "id": "XOuIjfVNJi8z",
    "outputId": "244f9f26-af16-46af-8764-fe8d5166aa19"
   },
   "outputs": [
    {
     "name": "stdout",
     "output_type": "stream",
     "text": [
      "<class 'pandas.core.frame.DataFrame'>\n",
      "RangeIndex: 38984 entries, 0 to 38983\n",
      "Data columns (total 23 columns):\n",
      " #   Column               Non-Null Count  Dtype  \n",
      "---  ------               --------------  -----  \n",
      " 0   age                  38984 non-null  int64  \n",
      " 1   height(cm)           38984 non-null  int64  \n",
      " 2   weight(kg)           38984 non-null  int64  \n",
      " 3   waist(cm)            38984 non-null  float64\n",
      " 4   eyesight(left)       38984 non-null  float64\n",
      " 5   eyesight(right)      38984 non-null  float64\n",
      " 6   hearing(left)        38984 non-null  int64  \n",
      " 7   hearing(right)       38984 non-null  int64  \n",
      " 8   systolic             38984 non-null  int64  \n",
      " 9   relaxation           38984 non-null  int64  \n",
      " 10  fasting blood sugar  38984 non-null  int64  \n",
      " 11  Cholesterol          38984 non-null  int64  \n",
      " 12  triglyceride         38984 non-null  int64  \n",
      " 13  HDL                  38984 non-null  int64  \n",
      " 14  LDL                  38984 non-null  int64  \n",
      " 15  hemoglobin           38984 non-null  float64\n",
      " 16  Urine protein        38984 non-null  int64  \n",
      " 17  serum creatinine     38984 non-null  float64\n",
      " 18  AST                  38984 non-null  int64  \n",
      " 19  ALT                  38984 non-null  int64  \n",
      " 20  Gtp                  38984 non-null  int64  \n",
      " 21  dental caries        38984 non-null  int64  \n",
      " 22  smoking              38984 non-null  int64  \n",
      "dtypes: float64(5), int64(18)\n",
      "memory usage: 6.8 MB\n"
     ]
    }
   ],
   "source": [
    "df.info()"
   ]
  },
  {
   "cell_type": "markdown",
   "metadata": {
    "id": "kvR6AlWqzFwD"
   },
   "source": [
    "# Separating Input Features and Output Features\n",
    "Before building any machine learning model, we always separate the input variables and output variables. Input variables are those quantities whose values are changed naturally in an experiment, whereas output variable is the one whose values are dependent on the input variables. So, input variables are also known as independent variables as its values are not dependent on any other quantity, and output variable/s are also known as dependent variables as its values are dependent on other variable i.e. input variables. Like here in this data, we want to predict whether the meteor is a threat to the Earth or not, so the variable **Hazardous** is our target variable and remaining features are input variable.\n",
    "\n",
    "By convention input variables are represented with 'X' and output variables are represented with 'y'."
   ]
  },
  {
   "cell_type": "code",
   "execution_count": 9,
   "metadata": {
    "colab": {
     "base_uri": "https://localhost:8080/"
    },
    "id": "4lOdfmLLqT2m",
    "outputId": "0f4681e4-a077-4ea5-fea2-e48a074275c5"
   },
   "outputs": [
    {
     "data": {
      "text/plain": [
       "age                    0\n",
       "height(cm)             0\n",
       "weight(kg)             0\n",
       "waist(cm)              0\n",
       "eyesight(left)         0\n",
       "eyesight(right)        0\n",
       "hearing(left)          0\n",
       "hearing(right)         0\n",
       "systolic               0\n",
       "relaxation             0\n",
       "fasting blood sugar    0\n",
       "Cholesterol            0\n",
       "triglyceride           0\n",
       "HDL                    0\n",
       "LDL                    0\n",
       "hemoglobin             0\n",
       "Urine protein          0\n",
       "serum creatinine       0\n",
       "AST                    0\n",
       "ALT                    0\n",
       "Gtp                    0\n",
       "dental caries          0\n",
       "smoking                0\n",
       "dtype: int64"
      ]
     },
     "execution_count": 9,
     "metadata": {},
     "output_type": "execute_result"
    }
   ],
   "source": [
    "df.isna().sum()"
   ]
  },
  {
   "cell_type": "code",
   "execution_count": 10,
   "metadata": {
    "id": "w7mNrWppzfW4"
   },
   "outputs": [],
   "source": [
    "X = df.drop('smoking', axis = 1)   # here we are dropping the Target feature as this is the target and 'X' is input features, the changes are not \n",
    "                                              # made inplace as we have not used 'inplace = True'\n",
    "y = df['smoking']             # Output/Dependent variable"
   ]
  },
  {
   "cell_type": "markdown",
   "metadata": {
    "id": "CwmlFaektsCL"
   },
   "source": [
    "# Splitting the data into Train and Test Set\n",
    "We want to check the performance of the model that we built. For this purpose, we always split (both input and output data) the given data into training set which will be used to train the model, and test set which will be used to check how accurately the model is predicting outcomes.\n",
    "\n",
    "For this purpose we have a class called 'train_test_split' in the 'sklearn.model_selection' module.\n"
   ]
  },
  {
   "cell_type": "code",
   "execution_count": 11,
   "metadata": {
    "id": "IgYLbVk_Qcqa"
   },
   "outputs": [],
   "source": [
    "X_train, X_test, y_train, y_test = train_test_split(X, y, test_size=0.3)"
   ]
  },
  {
   "cell_type": "code",
   "execution_count": 12,
   "metadata": {
    "colab": {
     "base_uri": "https://localhost:8080/"
    },
    "id": "OgwFJNj4GS6G",
    "outputId": "f8a7e66a-55d5-4c95-e0df-1c7e761a2a96"
   },
   "outputs": [
    {
     "data": {
      "text/plain": [
       "(27288, 22)"
      ]
     },
     "execution_count": 12,
     "metadata": {},
     "output_type": "execute_result"
    }
   ],
   "source": [
    "X_train.shape"
   ]
  },
  {
   "cell_type": "code",
   "execution_count": 13,
   "metadata": {
    "id": "C_9z9_kZs0Hz"
   },
   "outputs": [],
   "source": [
    "scaler = StandardScaler().fit(X_train)\n",
    "X_train = scaler.transform(X_train)\n",
    "X_test = scaler.transform(X_test)"
   ]
  },
  {
   "cell_type": "code",
   "execution_count": 14,
   "metadata": {
    "colab": {
     "base_uri": "https://localhost:8080/"
    },
    "id": "MR0IlqSCGS6G",
    "outputId": "71372a99-951e-4eec-ac49-3ac91ccd5bb8"
   },
   "outputs": [
    {
     "data": {
      "text/plain": [
       "array([[ 0.48775941, -1.05679505, -1.23051155, ..., -0.26856198,\n",
       "        -0.39825784,  1.90417142],\n",
       "       [-2.00101745,  0.57544218, -0.84472818, ..., -0.44402813,\n",
       "        -0.43822739, -0.5251628 ],\n",
       "       [-0.34183288,  0.57544218,  0.69840533, ...,  1.36912211,\n",
       "         3.29892526, -0.5251628 ],\n",
       "       ...,\n",
       "       [-0.34183288,  1.11952125,  0.31262195, ...,  0.31632519,\n",
       "         1.58023474, -0.5251628 ],\n",
       "       [ 0.07296326,  0.57544218,  0.69840533, ...,  0.78423493,\n",
       "         0.46108742, -0.5251628 ],\n",
       "       [-0.34183288, -1.05679505, -0.84472818, ..., -0.50251685,\n",
       "        -0.59810557, -0.5251628 ]])"
      ]
     },
     "execution_count": 14,
     "metadata": {},
     "output_type": "execute_result"
    }
   ],
   "source": [
    "X_train"
   ]
  },
  {
   "cell_type": "markdown",
   "metadata": {
    "id": "Fr16AzpqtECh"
   },
   "source": [
    "# Building Model\n",
    "Now we are finally ready, and we can train the model.\n",
    "\n",
    "There are tons of Machine Learning models like Logistic Regression, Random Forest, Decision Tree, etc. to say you some. However here we are using RandomForest Classifier (using the sklearn library).\n",
    "\n",
    "Then we would feed the model both with the data (X_train) and the answers for that data (y_train)"
   ]
  },
  {
   "cell_type": "markdown",
   "metadata": {
    "id": "IVVBMkkUunvk"
   },
   "source": [
    "### Train the model"
   ]
  },
  {
   "cell_type": "code",
   "execution_count": 15,
   "metadata": {
    "id": "JJEM4y1xuVPW"
   },
   "outputs": [],
   "source": [
    "from sklearn.linear_model import LogisticRegression"
   ]
  },
  {
   "cell_type": "code",
   "execution_count": 16,
   "metadata": {
    "id": "WsdPFU6iuZj9"
   },
   "outputs": [],
   "source": [
    "model = LogisticRegression()"
   ]
  },
  {
   "cell_type": "code",
   "execution_count": 17,
   "metadata": {
    "colab": {
     "base_uri": "https://localhost:8080/"
    },
    "id": "DFa09dDgU5_E",
    "outputId": "6ea4c368-cbb0-4e39-9a48-d65938aed44c"
   },
   "outputs": [
    {
     "data": {
      "text/plain": [
       "LogisticRegression()"
      ]
     },
     "execution_count": 17,
     "metadata": {},
     "output_type": "execute_result"
    }
   ],
   "source": [
    "model.fit(X_train,y_train)"
   ]
  },
  {
   "cell_type": "code",
   "execution_count": 18,
   "metadata": {
    "colab": {
     "base_uri": "https://localhost:8080/"
    },
    "id": "SMwq5AEL1dCw",
    "outputId": "fbecb5e8-30d1-4f37-a45b-ad436361d15b"
   },
   "outputs": [
    {
     "name": "stdout",
     "output_type": "stream",
     "text": [
      "(27288, 22) (27288,)\n"
     ]
    }
   ],
   "source": [
    "print(X_train.shape,y_train.shape)"
   ]
  },
  {
   "cell_type": "markdown",
   "metadata": {
    "id": "rd2dWbYe2oLa"
   },
   "source": [
    "# Validate The Model\n",
    "Wonder🤔 how well your model learned! Lets check it.\n",
    "\n",
    "# Predict on the testing data (X_test)\n",
    "Now we predict using our trained model on the test set we created i.e. X_test and evaluate our model on unforeseen data."
   ]
  },
  {
   "cell_type": "code",
   "execution_count": 19,
   "metadata": {
    "id": "KgRfIAJP9RNZ"
   },
   "outputs": [],
   "source": [
    "pred = model.predict(X_test)"
   ]
  },
  {
   "cell_type": "markdown",
   "metadata": {
    "id": "GInO1P5u9rbx"
   },
   "source": [
    "## Model Evaluation\n",
    "Evaluating performance of the machine learning model that we have built is an essential part of any machine learning project. Performance of our model is done using some evaluation metrics.\n",
    "\n",
    "There are so many evaluation metrics to use for regression problem, naming some - Accuracy Score, F1 Score, Precision, Recall etc. However, **Accuracy Score** is the metric for this challenge. "
   ]
  },
  {
   "cell_type": "code",
   "execution_count": 20,
   "metadata": {
    "id": "29kbj29z9pw0"
   },
   "outputs": [],
   "source": [
    "from sklearn.metrics import accuracy_score"
   ]
  },
  {
   "cell_type": "markdown",
   "metadata": {
    "id": "IcKnLXHIuzd4"
   },
   "source": [
    "# Checking the accuracy of the Validation dataset"
   ]
  },
  {
   "cell_type": "markdown",
   "metadata": {
    "id": "llY7TuDNkWeC"
   },
   "source": [
    "print('Accuracy score',accuracy_score(X_test,y_test))"
   ]
  },
  {
   "cell_type": "code",
   "execution_count": 21,
   "metadata": {
    "colab": {
     "base_uri": "https://localhost:8080/"
    },
    "id": "iA2sc8E4vDlz",
    "outputId": "8f46aa0e-b7ef-4adf-8e37-55dc2f8dcd7a"
   },
   "outputs": [
    {
     "name": "stdout",
     "output_type": "stream",
     "text": [
      "Accuracy score 0.72734268125855\n"
     ]
    }
   ],
   "source": [
    "print('Accuracy score',accuracy_score(pred,y_test))"
   ]
  },
  {
   "cell_type": "markdown",
   "metadata": {
    "id": "3PfszB92waAm"
   },
   "source": [
    "Predict The Output For Testing Dataset 😅\n",
    "We have trained our model, evaluated it and now finally we will predict the output/target for the testing data (i.e. testing_set_label.csv) given in 'Data' section of the problem page."
   ]
  },
  {
   "cell_type": "markdown",
   "metadata": {
    "id": "Yyxr6KaSwfmI"
   },
   "source": [
    "## Load Test Set\n",
    "Load the test data on which final submission is to be made."
   ]
  },
  {
   "cell_type": "code",
   "execution_count": 22,
   "metadata": {
    "id": "LjRc151Cwa1p"
   },
   "outputs": [],
   "source": [
    "test_data = pd.read_csv(r'test_dataset.csv')"
   ]
  },
  {
   "cell_type": "markdown",
   "metadata": {
    "id": "JBfDu49swopQ"
   },
   "source": [
    "**Note:** \n",
    "*  Use the same techniques to deal with missing values as done with the training dataset.   \n",
    "\n",
    "*  **Don't remove any observation/record from the test dataset otherwise you will get wrong answer. The number of items in your prediction should be same as the number of records are present in the test dataset**.\n",
    "\n",
    "*  Use the same techniques to preprocess the data as done with training dataset.\n",
    "\n",
    "***Why do we need to do the same procedure of filling missing values, data cleaning and data preprocessing on the new test data as it was done for the training and validation data?***\n",
    "\n",
    "**Ans:** Because our model has been trained on certain format of data and if we don't provide the testing data of the similar format, the model will give erroneous predictions and the rmse of the model will increase. Also, if the model was build on 'n' number of features, while predicting on new test data you should always give the same number of features to the model. In this case if you provide different number of features while predicting the output, your ML model will throw a ValueError saying something like 'number of features given x; expecting n'. Not confident about these statements? Well, as a data scientist you should always perform some experiment and observe the results.\n",
    "\n"
   ]
  },
  {
   "cell_type": "code",
   "execution_count": 23,
   "metadata": {
    "colab": {
     "base_uri": "https://localhost:8080/",
     "height": 317
    },
    "id": "5zF7me-ewpWu",
    "outputId": "1dd94fa0-a82c-46ef-f1c2-4e253cfc6a3c"
   },
   "outputs": [
    {
     "data": {
      "text/html": [
       "<div>\n",
       "<style scoped>\n",
       "    .dataframe tbody tr th:only-of-type {\n",
       "        vertical-align: middle;\n",
       "    }\n",
       "\n",
       "    .dataframe tbody tr th {\n",
       "        vertical-align: top;\n",
       "    }\n",
       "\n",
       "    .dataframe thead th {\n",
       "        text-align: right;\n",
       "    }\n",
       "</style>\n",
       "<table border=\"1\" class=\"dataframe\">\n",
       "  <thead>\n",
       "    <tr style=\"text-align: right;\">\n",
       "      <th></th>\n",
       "      <th>age</th>\n",
       "      <th>height(cm)</th>\n",
       "      <th>weight(kg)</th>\n",
       "      <th>waist(cm)</th>\n",
       "      <th>eyesight(left)</th>\n",
       "      <th>eyesight(right)</th>\n",
       "      <th>hearing(left)</th>\n",
       "      <th>hearing(right)</th>\n",
       "      <th>systolic</th>\n",
       "      <th>relaxation</th>\n",
       "      <th>...</th>\n",
       "      <th>triglyceride</th>\n",
       "      <th>HDL</th>\n",
       "      <th>LDL</th>\n",
       "      <th>hemoglobin</th>\n",
       "      <th>Urine protein</th>\n",
       "      <th>serum creatinine</th>\n",
       "      <th>AST</th>\n",
       "      <th>ALT</th>\n",
       "      <th>Gtp</th>\n",
       "      <th>dental caries</th>\n",
       "    </tr>\n",
       "  </thead>\n",
       "  <tbody>\n",
       "    <tr>\n",
       "      <th>0</th>\n",
       "      <td>40</td>\n",
       "      <td>170</td>\n",
       "      <td>65</td>\n",
       "      <td>75.1</td>\n",
       "      <td>1.0</td>\n",
       "      <td>0.9</td>\n",
       "      <td>1</td>\n",
       "      <td>1</td>\n",
       "      <td>120</td>\n",
       "      <td>70</td>\n",
       "      <td>...</td>\n",
       "      <td>260</td>\n",
       "      <td>41</td>\n",
       "      <td>132</td>\n",
       "      <td>15.7</td>\n",
       "      <td>1</td>\n",
       "      <td>0.8</td>\n",
       "      <td>24</td>\n",
       "      <td>26</td>\n",
       "      <td>32</td>\n",
       "      <td>0</td>\n",
       "    </tr>\n",
       "    <tr>\n",
       "      <th>1</th>\n",
       "      <td>45</td>\n",
       "      <td>170</td>\n",
       "      <td>75</td>\n",
       "      <td>89.0</td>\n",
       "      <td>0.7</td>\n",
       "      <td>1.2</td>\n",
       "      <td>1</td>\n",
       "      <td>1</td>\n",
       "      <td>100</td>\n",
       "      <td>67</td>\n",
       "      <td>...</td>\n",
       "      <td>345</td>\n",
       "      <td>49</td>\n",
       "      <td>140</td>\n",
       "      <td>15.7</td>\n",
       "      <td>1</td>\n",
       "      <td>1.1</td>\n",
       "      <td>26</td>\n",
       "      <td>28</td>\n",
       "      <td>138</td>\n",
       "      <td>0</td>\n",
       "    </tr>\n",
       "    <tr>\n",
       "      <th>2</th>\n",
       "      <td>30</td>\n",
       "      <td>180</td>\n",
       "      <td>90</td>\n",
       "      <td>94.0</td>\n",
       "      <td>1.0</td>\n",
       "      <td>0.8</td>\n",
       "      <td>1</td>\n",
       "      <td>1</td>\n",
       "      <td>115</td>\n",
       "      <td>72</td>\n",
       "      <td>...</td>\n",
       "      <td>103</td>\n",
       "      <td>53</td>\n",
       "      <td>103</td>\n",
       "      <td>13.5</td>\n",
       "      <td>1</td>\n",
       "      <td>1.0</td>\n",
       "      <td>19</td>\n",
       "      <td>29</td>\n",
       "      <td>30</td>\n",
       "      <td>0</td>\n",
       "    </tr>\n",
       "    <tr>\n",
       "      <th>3</th>\n",
       "      <td>60</td>\n",
       "      <td>170</td>\n",
       "      <td>50</td>\n",
       "      <td>73.0</td>\n",
       "      <td>0.5</td>\n",
       "      <td>0.7</td>\n",
       "      <td>1</td>\n",
       "      <td>1</td>\n",
       "      <td>118</td>\n",
       "      <td>78</td>\n",
       "      <td>...</td>\n",
       "      <td>70</td>\n",
       "      <td>65</td>\n",
       "      <td>108</td>\n",
       "      <td>14.1</td>\n",
       "      <td>1</td>\n",
       "      <td>1.3</td>\n",
       "      <td>31</td>\n",
       "      <td>28</td>\n",
       "      <td>33</td>\n",
       "      <td>0</td>\n",
       "    </tr>\n",
       "    <tr>\n",
       "      <th>4</th>\n",
       "      <td>30</td>\n",
       "      <td>170</td>\n",
       "      <td>65</td>\n",
       "      <td>78.0</td>\n",
       "      <td>1.5</td>\n",
       "      <td>1.0</td>\n",
       "      <td>1</td>\n",
       "      <td>1</td>\n",
       "      <td>110</td>\n",
       "      <td>70</td>\n",
       "      <td>...</td>\n",
       "      <td>210</td>\n",
       "      <td>45</td>\n",
       "      <td>103</td>\n",
       "      <td>14.7</td>\n",
       "      <td>1</td>\n",
       "      <td>0.8</td>\n",
       "      <td>21</td>\n",
       "      <td>21</td>\n",
       "      <td>19</td>\n",
       "      <td>0</td>\n",
       "    </tr>\n",
       "  </tbody>\n",
       "</table>\n",
       "<p>5 rows × 22 columns</p>\n",
       "</div>"
      ],
      "text/plain": [
       "   age  height(cm)  weight(kg)  waist(cm)  eyesight(left)  eyesight(right)  \\\n",
       "0   40         170          65       75.1             1.0              0.9   \n",
       "1   45         170          75       89.0             0.7              1.2   \n",
       "2   30         180          90       94.0             1.0              0.8   \n",
       "3   60         170          50       73.0             0.5              0.7   \n",
       "4   30         170          65       78.0             1.5              1.0   \n",
       "\n",
       "   hearing(left)  hearing(right)  systolic  relaxation  ...  triglyceride  \\\n",
       "0              1               1       120          70  ...           260   \n",
       "1              1               1       100          67  ...           345   \n",
       "2              1               1       115          72  ...           103   \n",
       "3              1               1       118          78  ...            70   \n",
       "4              1               1       110          70  ...           210   \n",
       "\n",
       "   HDL  LDL  hemoglobin  Urine protein  serum creatinine  AST  ALT  Gtp  \\\n",
       "0   41  132        15.7              1               0.8   24   26   32   \n",
       "1   49  140        15.7              1               1.1   26   28  138   \n",
       "2   53  103        13.5              1               1.0   19   29   30   \n",
       "3   65  108        14.1              1               1.3   31   28   33   \n",
       "4   45  103        14.7              1               0.8   21   21   19   \n",
       "\n",
       "   dental caries  \n",
       "0              0  \n",
       "1              0  \n",
       "2              0  \n",
       "3              0  \n",
       "4              0  \n",
       "\n",
       "[5 rows x 22 columns]"
      ]
     },
     "execution_count": 23,
     "metadata": {},
     "output_type": "execute_result"
    }
   ],
   "source": [
    "test_data.head()"
   ]
  },
  {
   "cell_type": "code",
   "execution_count": 24,
   "metadata": {
    "colab": {
     "base_uri": "https://localhost:8080/"
    },
    "id": "_p1VzAP6q6uL",
    "outputId": "26d30559-30c3-404b-94a9-d8d579961995"
   },
   "outputs": [
    {
     "data": {
      "text/plain": [
       "age                    0\n",
       "height(cm)             0\n",
       "weight(kg)             0\n",
       "waist(cm)              0\n",
       "eyesight(left)         0\n",
       "eyesight(right)        0\n",
       "hearing(left)          0\n",
       "hearing(right)         0\n",
       "systolic               0\n",
       "relaxation             0\n",
       "fasting blood sugar    0\n",
       "Cholesterol            0\n",
       "triglyceride           0\n",
       "HDL                    0\n",
       "LDL                    0\n",
       "hemoglobin             0\n",
       "Urine protein          0\n",
       "serum creatinine       0\n",
       "AST                    0\n",
       "ALT                    0\n",
       "Gtp                    0\n",
       "dental caries          0\n",
       "dtype: int64"
      ]
     },
     "execution_count": 24,
     "metadata": {},
     "output_type": "execute_result"
    }
   ],
   "source": [
    "test_data.isna().sum()"
   ]
  },
  {
   "cell_type": "markdown",
   "metadata": {
    "id": "Myh_i9lDxSh3"
   },
   "source": [
    "## Make Prediction on Test Dataset\n",
    "Time to make submission!!!"
   ]
  },
  {
   "cell_type": "code",
   "execution_count": 25,
   "metadata": {
    "id": "RvmNRfsHxRsR"
   },
   "outputs": [],
   "source": [
    "target = model.predict(test_data)"
   ]
  },
  {
   "cell_type": "markdown",
   "metadata": {
    "id": "lDuRb3v6xZw4"
   },
   "source": [
    "#### Note: **Follow the submission guidelines given in 'How To Submit' Section.**"
   ]
  },
  {
   "cell_type": "markdown",
   "metadata": {
    "id": "siih9L-Fxfms"
   },
   "source": [
    "## How to save prediciton results locally via jupyter notebook?\n",
    "If you are working on Jupyter notebook, execute below block of codes. A file named 'prediction_results.csv' will be created in your current working directory."
   ]
  },
  {
   "cell_type": "code",
   "execution_count": 26,
   "metadata": {
    "id": "qvfit3i7xabj"
   },
   "outputs": [],
   "source": [
    "#target = pd.read_csv(r'test_ans.csv)\n",
    "res = pd.DataFrame(target) #target is nothing but the final predictions of your model on input features of your new unseen test data\n",
    "res.columns = [\"smoking\"]\n",
    "res.to_csv(\"submission.csv\", index = False)      # the csv file will be saved locally on the same location where this notebook is located."
   ]
  },
  {
   "cell_type": "markdown",
   "metadata": {
    "id": "u1W7ZHESxrYu"
   },
   "source": [
    "# **OR**, \n",
    "**if you are working on Google Colab then use the below set of code to save prediction results locally**"
   ]
  },
  {
   "cell_type": "markdown",
   "metadata": {
    "id": "m_PxzQLoxz68"
   },
   "source": [
    "## How to save prediction results locally via colab notebook?\n",
    "If you are working on Google Colab Notebook, execute below block of codes. A file named 'prediction_results' will be downloaded in your system."
   ]
  },
  {
   "cell_type": "code",
   "execution_count": 27,
   "metadata": {
    "colab": {
     "base_uri": "https://localhost:8080/",
     "height": 17
    },
    "id": "D17tX_B_xpKw",
    "outputId": "ed5583cb-000c-4b11-f0d9-d17f1a2eb564"
   },
   "outputs": [
    {
     "ename": "ModuleNotFoundError",
     "evalue": "No module named 'google.colab'",
     "output_type": "error",
     "traceback": [
      "\u001b[1;31m---------------------------------------------------------------------------\u001b[0m",
      "\u001b[1;31mModuleNotFoundError\u001b[0m                       Traceback (most recent call last)",
      "Input \u001b[1;32mIn [27]\u001b[0m, in \u001b[0;36m<cell line: 7>\u001b[1;34m()\u001b[0m\n\u001b[0;32m      4\u001b[0m res\u001b[38;5;241m.\u001b[39mcolumns \u001b[38;5;241m=\u001b[39m [\u001b[38;5;124m\"\u001b[39m\u001b[38;5;124msmoking\u001b[39m\u001b[38;5;124m\"\u001b[39m]\n\u001b[0;32m      6\u001b[0m \u001b[38;5;66;03m# To download the csv file locally\u001b[39;00m\n\u001b[1;32m----> 7\u001b[0m \u001b[38;5;28;01mfrom\u001b[39;00m \u001b[38;5;21;01mgoogle\u001b[39;00m\u001b[38;5;21;01m.\u001b[39;00m\u001b[38;5;21;01mcolab\u001b[39;00m \u001b[38;5;28;01mimport\u001b[39;00m files\n\u001b[0;32m      8\u001b[0m res\u001b[38;5;241m.\u001b[39mto_csv(\u001b[38;5;124m'\u001b[39m\u001b[38;5;124msubmission.csv\u001b[39m\u001b[38;5;124m'\u001b[39m, index \u001b[38;5;241m=\u001b[39m \u001b[38;5;28;01mFalse\u001b[39;00m)         \n\u001b[0;32m      9\u001b[0m files\u001b[38;5;241m.\u001b[39mdownload(\u001b[38;5;124m'\u001b[39m\u001b[38;5;124msubmission.csv\u001b[39m\u001b[38;5;124m'\u001b[39m)\n",
      "\u001b[1;31mModuleNotFoundError\u001b[0m: No module named 'google.colab'"
     ]
    }
   ],
   "source": [
    "# To create Dataframe of predicted value with particular respective index\n",
    "#target = pd.read_csv(r'/content/test_ans.csv')\n",
    "res = pd.DataFrame(target) # target are nothing but the final predictions of your model on input features of your new unseen test data\n",
    "res.columns = [\"smoking\"]\n",
    "\n",
    "# To download the csv file locally\n",
    "from google.colab import files\n",
    "res.to_csv('submission.csv', index = False)         \n",
    "files.download('submission.csv')"
   ]
  },
  {
   "cell_type": "markdown",
   "metadata": {
    "id": "RvfGFeQmx85z"
   },
   "source": [
    "## **Well Done! 👍**\n",
    "You are all set to make a submission. Let's head to the challenge page to make the submission."
   ]
  },
  {
   "cell_type": "code",
   "execution_count": null,
   "metadata": {
    "id": "W5RjbqGTWuzr"
   },
   "outputs": [],
   "source": []
  }
 ],
 "metadata": {
  "colab": {
   "collapsed_sections": [],
   "name": "DPhi_Sprint_74_Smoking_Status_Prediction.ipynb",
   "provenance": []
  },
  "kernelspec": {
   "display_name": "Python 3 (ipykernel)",
   "language": "python",
   "name": "python3"
  },
  "language_info": {
   "codemirror_mode": {
    "name": "ipython",
    "version": 3
   },
   "file_extension": ".py",
   "mimetype": "text/x-python",
   "name": "python",
   "nbconvert_exporter": "python",
   "pygments_lexer": "ipython3",
   "version": "3.9.12"
  }
 },
 "nbformat": 4,
 "nbformat_minor": 1
}
